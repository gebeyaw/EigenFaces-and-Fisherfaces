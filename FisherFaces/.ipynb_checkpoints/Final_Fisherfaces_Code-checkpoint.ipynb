{
 "cells": [
  {
   "cell_type": "code",
   "execution_count": null,
   "metadata": {},
   "outputs": [],
   "source": [
    "# Import libraries\n",
    "from matplotlib import pyplot as plt\n",
    "from matplotlib.image import imread\n",
    "import numpy as np\n",
    "import os\n",
    "import cv2\n",
    "import time"
   ]
  },
  {
   "cell_type": "code",
   "execution_count": null,
   "metadata": {},
   "outputs": [],
   "source": [
    "t2_start = time.time()\n",
    "train_path= 'Fisherfaces_Dataset/train_images/'\n",
    "test_path= 'Fisherfaces_Dataset/test_images/'\n",
    "train_dir=os.listdir(train_path)\n",
    "test_dir=os.listdir(test_path)\n",
    "height = 55\n",
    "width = 55"
   ]
  },
  {
   "cell_type": "code",
   "execution_count": null,
   "metadata": {},
   "outputs": [],
   "source": [
    "print('Train Images:')\n",
    "train_image_names = train_dir\n",
    "training_tensor   = np.ndarray(shape=(len(train_image_names),height*width), dtype=np.float64)\n",
    "lst=[]\n",
    "lstnoresize=[]\n",
    "for i in range(len(train_image_names)):\n",
    "    img = plt.imread(train_path + train_image_names[i])\n",
    "    imresize=cv2.resize(img,(height,width)) \n",
    "    training_tensor[i,:] = np.array(imresize, dtype='float64').flatten()\n",
    "    lst.append(imresize)\n",
    "    plt.subplot(10,10,1+i)\n",
    "    plt.imshow(imresize, cmap='gray')\n",
    "    plt.subplots_adjust(right=3.0, top=3)\n",
    "    plt.tick_params(labelleft='off', labelbottom='off', bottom='off',top='off',right='off',left='off', which='both')\n",
    "plt.show()\n",
    "images=np.array(lst)"
   ]
  },
  {
   "cell_type": "code",
   "execution_count": null,
   "metadata": {},
   "outputs": [],
   "source": [
    "print('Test Images:')\n",
    "test_image_names = test_dir\n",
    "testing_tensor   = np.ndarray(shape=(len(test_image_names), height*width), dtype=np.float64)\n",
    "\n",
    "for i in range(len(test_image_names)):\n",
    "    img = imread(test_path + test_image_names[i])\n",
    "    testresize=cv2.resize(img,(height,width))\n",
    "    testing_tensor[i,:] = np.array(testresize, dtype='float64').flatten()\n",
    "    plt.subplot(8,10,1+i)\n",
    "    plt.imshow(img, cmap='gray')\n",
    "    plt.subplots_adjust(right=3.0, top=5)\n",
    "    plt.tick_params(labelleft='off', labelbottom='off', bottom='off',top='off',right='off',left='off', which='both')\n",
    "plt.show()"
   ]
  },
  {
   "cell_type": "code",
   "execution_count": null,
   "metadata": {},
   "outputs": [],
   "source": [
    "mean_face = np.zeros((1,height*width))\n",
    "for i in training_tensor:\n",
    "    mean_face = np.add(mean_face,i)\n",
    "mean_face = np.divide(mean_face,float(len(train_image_names))).flatten()\n",
    "plt.imshow(mean_face.reshape(height, width), cmap='gray')\n",
    "plt.tick_params(labelleft='off', labelbottom='off', bottom='off',top='off',right='off',left='off', which='both')\n",
    "plt.show()"
   ]
  },
  {
   "cell_type": "code",
   "execution_count": null,
   "metadata": {},
   "outputs": [],
   "source": [
    "def pca_model():\n",
    "    img_vectors=np.reshape(images,(images.shape[0],images.shape[1]*images.shape[2])) \n",
    "    shortmean=np.mean(img_vectors,axis=0)\n",
    "    image_std_vec=np.std(img_vectors,axis=0)\n",
    "    normalized=[]\n",
    "    for j in img_vectors:\n",
    "        normalized.append((j-shortmean)) \n",
    "    normalized=np.array(normalized)\n",
    "    covar=np.cov(np.transpose(normalized)) \n",
    "    eigvals, eigvects=np.linalg.eig(covar) \n",
    "    mean_face=np.reshape(shortmean,(images.shape[1]*images.shape[2]))\n",
    "    idx = eigvals.argsort()[::-1]   \n",
    "    eigvals = eigvals[idx]\n",
    "    eigvects = eigvects[:,idx]\n",
    "    eig_vectors=np.real(np.transpose(eigvects))\n",
    "    imp_eig_vectors=eig_vectors[:60] #taking only first 60 eigenvectors\n",
    "    eig_vectors_pca=eig_vectors[3:13] \n",
    "    return [eigvals,eig_vectors,mean_face,imp_eig_vectors,img_vectors,eig_vectors_pca]"
   ]
  },
  {
   "cell_type": "code",
   "execution_count": null,
   "metadata": {},
   "outputs": [],
   "source": [
    "[eigvals,eig_vectors,mean_face,imp_eig_vectors,img_vectors,eig_vectors_pca] = pca_model()\n",
    "d={'1':[],'2':[],'3':[],'4':[],'5':[],'6':[],'7':[],'8':[],'9':[],'10':[]} #taking only 10 subjects for classification \n",
    "k=1 \n",
    "while(k<11):\n",
    "    for i in train_dir:\n",
    "        if(k<=9):\n",
    "            q='0'+str(k)\n",
    "            if(i[4:6]==q):\n",
    "                d[str(k)].append(i)\n",
    "        \n",
    "        else:\n",
    "            q=k\n",
    "            if(i[4:6]==str(q)):\n",
    "                d[str(k)].append(i)\n",
    "    k+=1\n"
   ]
  },
  {
   "cell_type": "code",
   "execution_count": null,
   "metadata": {},
   "outputs": [],
   "source": [
    "#Creating a X vector containing samples from each class. \n",
    "X=[d[i] for i in d.keys()]\n",
    "tensor=[]\n",
    "for i in range(0,10):\n",
    "    for j in range(0,7):\n",
    "        img = plt.imread(train_path + X[i][j])\n",
    "        imresize=cv2.resize(img,(height,width)).flatten() \n",
    "        tensor.append(np.array(imresize, dtype='float64')) \n",
    "classes_data=[]\n",
    "for i in range(0,70,7):\n",
    "    classes_data.append(tensor[i:i+7]) \n",
    "classes_data_np=np.array(classes_data) \n",
    "classes_data_np.shape"
   ]
  },
  {
   "cell_type": "markdown",
   "metadata": {},
   "source": [
    "# find the weights for each image"
   ]
  },
  {
   "cell_type": "code",
   "execution_count": null,
   "metadata": {},
   "outputs": [],
   "source": [
    "weights=[] #Corresponds to the weights of images in each class\n",
    "for i in range(0,10):\n",
    "    class_weights=[] #weights per class\n",
    "    for j in range(0,7):\n",
    "        image_weights=[] #a list of weights per image\n",
    "        for k in range(0,len(imp_eig_vectors)):\n",
    "            projected_weight=np.dot(imp_eig_vectors[k],classes_data_np[i][j]) \n",
    "            image_weights.append(projected_weight)   \n",
    "        class_weights.append(image_weights)\n",
    "    weights.append(class_weights)\n",
    "weights=np.array(weights)\n"
   ]
  },
  {
   "cell_type": "markdown",
   "metadata": {},
   "source": [
    "# Calculate Sb and Sw"
   ]
  },
  {
   "cell_type": "code",
   "execution_count": null,
   "metadata": {},
   "outputs": [],
   "source": [
    "#the mean weights for each class\n",
    "def Fishers_model():\n",
    "    mean_weights_class=np.mean(weights,axis=1)\n",
    "    #Calculating Sb\n",
    "    Sb=np.zeros((weights.shape[2],weights.shape[2]),dtype='float64')\n",
    "    for i in range(0,len(mean_weights_class)):\n",
    "        term1=np.subtract(mean_weights_class[i].reshape((1,mean_weights_class[0].shape[0])),weights.reshape((weights.shape[0]*weights.shape[1],weights.shape[2])).mean(axis=0)).reshape(1,weights.shape[2]) \n",
    "        term2=np.transpose(term1) \n",
    "        product=len(weights[i])*np.matmul(term2,term1) \n",
    "        Sb=Sb+product\n",
    "\n",
    "    #Calculating Sw\n",
    "    Sw=np.zeros((weights.shape[2],weights.shape[2]),dtype='float64')\n",
    "    for i in range(0,len(weights)):\n",
    "        for j in range(0,len(weights[i])):\n",
    "            term1_sw=np.subtract(weights[i][j],mean_weights_class[i].reshape((1,mean_weights_class[0].shape[0]))).reshape(1,weights.shape[2])\n",
    "            term2_sw=np.transpose(term1_sw)\n",
    "            product_sw=np.matmul(term2_sw,term1_sw)\n",
    "            Sw=Sw+product_sw\n",
    "    Sw_inverse=np.linalg.inv(Sw)\n",
    "    BinvA=np.matmul(Sw_inverse,Sb) \n",
    "    #Compute the inverse matrix and get its eigenvectors and eigenvalues\n",
    "    inv_eigval, inv_eigvec=np.linalg.eig(BinvA) \n",
    "    idx = inv_eigval.argsort()[::-1]   \n",
    "    inv_eigval = inv_eigval[idx]\n",
    "    inv_eigvec = inv_eigvec[:,idx]\n",
    "\n",
    "    inv_eigvec=np.transpose(inv_eigvec) \n",
    "    return [inv_eigval,inv_eigvec]"
   ]
  },
  {
   "cell_type": "markdown",
   "metadata": {},
   "source": [
    "# Obtaining Fisherfaces"
   ]
  },
  {
   "cell_type": "code",
   "execution_count": null,
   "metadata": {},
   "outputs": [],
   "source": [
    "[inv_eigval,inv_eigvec] = Fishers_model()\n",
    "plt.figure(figsize=(12,6))\n",
    "for i in range(1,11,1):\n",
    "    plt.subplot(2,5,i)\n",
    "    plt.imshow(np.reshape(np.real(np.matmul(inv_eigvec[i-1],imp_eig_vectors)),(55,55)),cmap='gray')\n",
    "    plt.title('Fisherface {}'.format(i))\n",
    "    plt.subplots_adjust(right=0.8, top=0.7)\n",
    "    plt.tick_params(labelleft='off', labelbottom='off', bottom='off',top='off',right='off',left='off', which='both')\n",
    "plt.show()\n",
    "inv_eigvec=inv_eigvec[:10] \n"
   ]
  },
  {
   "cell_type": "markdown",
   "metadata": {},
   "source": [
    "# Get weights of training images using fisherfaces"
   ]
  },
  {
   "cell_type": "code",
   "execution_count": null,
   "metadata": {},
   "outputs": [],
   "source": [
    "all_imgs_w = np.reshape(weights,(-1,inv_eigvec.shape[-1])) \n",
    "train_coeffs = []\n",
    "for i in range(len(all_imgs_w)):\n",
    "    t = []\n",
    "    for j in range(len(inv_eigvec)):\n",
    "        t.append(np.dot(inv_eigvec[j],all_imgs_w[i])) \n",
    "    train_coeffs.append(t)\n",
    "train_coeffs = np.array(train_coeffs)"
   ]
  },
  {
   "cell_type": "markdown",
   "metadata": {},
   "source": [
    "# Getting coefficients for test images "
   ]
  },
  {
   "cell_type": "code",
   "execution_count": null,
   "metadata": {},
   "outputs": [],
   "source": [
    "def get_coefficients():\n",
    "    test_imgs=testing_tensor \n",
    "    test_pca_coeffs = []\n",
    "    for i in range(len(test_imgs)):\n",
    "        t = []\n",
    "        for j in range(len(imp_eig_vectors)):\n",
    "            t.append(np.dot(imp_eig_vectors[j],test_imgs[i]))\n",
    "        test_pca_coeffs.append(t)\n",
    "    test_pca_coeffs = np.array(test_pca_coeffs)\n",
    "    lda_compute=test_pca_coeffs\n",
    "    test_flda = []\n",
    "    for i in range(len(lda_compute)):\n",
    "        t = []\n",
    "        for j in range(len(inv_eigvec)):\n",
    "            t.append(np.dot(inv_eigvec[j],lda_compute[i]))\n",
    "        test_flda.append(t)\n",
    "    test_flda = np.array(test_flda)\n",
    "    return [test_flda,test_imgs]\n"
   ]
  },
  {
   "cell_type": "markdown",
   "metadata": {},
   "source": [
    "#  predictions by computing distance"
   ]
  },
  {
   "cell_type": "code",
   "execution_count": null,
   "metadata": {},
   "outputs": [],
   "source": [
    "[test_flda,test_imgs] =get_coefficients()\n",
    "predict = []\n",
    "for i in range(len(test_flda)):\n",
    "    d = []\n",
    "    for j in range(len(train_coeffs)):\n",
    "        d.append(np.sum(np.square(test_flda[i]-train_coeffs[j])))\n",
    "    d = np.array(d)\n",
    "    predict.append(np.argmin(d))\n",
    "print(predict)"
   ]
  },
  {
   "cell_type": "markdown",
   "metadata": {},
   "source": [
    "Compute accuracy of predictions of fishers"
   ]
  },
  {
   "cell_type": "code",
   "execution_count": null,
   "metadata": {},
   "outputs": [],
   "source": [
    "correct_match=0\n",
    "total_length=0\n",
    "\n",
    "for i in range(0,len(test_imgs)):\n",
    "\n",
    "    plt.subplot(1,2,1)\n",
    "    plt.imshow(test_imgs[i].reshape((height,width)),cmap='gray')\n",
    "    plt.title('Unkown Face')\n",
    "    plt.subplot(1,2,2)\n",
    "    plt.imshow(np.reshape(img_vectors[predict[i]],(height,width)),cmap='gray')\n",
    "    plt.title('Recognized Person')\n",
    "    plt.show()\n",
    "    if(train_image_names[predict[i]].split(\".\")[0]==test_image_names[i].split(\".\")[0]):\n",
    "        correct_match+=1\n",
    "    total_length+=1\n"
   ]
  },
  {
   "cell_type": "code",
   "execution_count": null,
   "metadata": {},
   "outputs": [],
   "source": [
    "print(\"The accuracy using 10 Fisherfaces is \",(correct_match/total_length)*100)\n",
    "t2_stop = time.time()\n",
    "print(\"\\nElapsed Time During  The Operation:\",t2_stop-t2_start)"
   ]
  },
  {
   "cell_type": "code",
   "execution_count": null,
   "metadata": {},
   "outputs": [],
   "source": []
  },
  {
   "cell_type": "code",
   "execution_count": null,
   "metadata": {},
   "outputs": [],
   "source": []
  },
  {
   "cell_type": "code",
   "execution_count": null,
   "metadata": {},
   "outputs": [],
   "source": []
  }
 ],
 "metadata": {
  "kernelspec": {
   "display_name": "Python 3",
   "language": "python",
   "name": "python3"
  },
  "language_info": {
   "codemirror_mode": {
    "name": "ipython",
    "version": 3
   },
   "file_extension": ".py",
   "mimetype": "text/x-python",
   "name": "python",
   "nbconvert_exporter": "python",
   "pygments_lexer": "ipython3",
   "version": "3.8.5"
  }
 },
 "nbformat": 4,
 "nbformat_minor": 4
}
